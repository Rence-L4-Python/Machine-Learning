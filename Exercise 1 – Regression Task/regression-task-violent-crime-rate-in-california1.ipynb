{
 "cells": [
  {
   "cell_type": "markdown",
   "id": "54b7fa48",
   "metadata": {
    "papermill": {
     "duration": 0.004315,
     "end_time": "2025-10-27T13:26:38.858178",
     "exception": false,
     "start_time": "2025-10-27T13:26:38.853863",
     "status": "completed"
    },
    "tags": []
   },
   "source": [
    "# **<span style=\"color: red;\">REGRESSION TASK</span>**"
   ]
  },
  {
   "cell_type": "markdown",
   "id": "f8f639e9",
   "metadata": {
    "papermill": {
     "duration": 0.00306,
     "end_time": "2025-10-27T13:26:38.864846",
     "exception": false,
     "start_time": "2025-10-27T13:26:38.861786",
     "status": "completed"
    },
    "tags": []
   },
   "source": [
    "# 1. Violent Crime Rate California 2000-2013\n",
    "---\n",
    "***(https://catalog.data.gov/dataset/violent-crime-rate-94cb9)***"
   ]
  },
  {
   "cell_type": "markdown",
   "id": "90acad8f",
   "metadata": {
    "papermill": {
     "duration": 0.003076,
     "end_time": "2025-10-27T13:26:38.871329",
     "exception": false,
     "start_time": "2025-10-27T13:26:38.868253",
     "status": "completed"
    },
    "tags": []
   },
   "source": [
    "## 1.1 Importing Libraries\n",
    "---\n",
    "Mandatory for starting the regression task."
   ]
  },
  {
   "cell_type": "code",
   "execution_count": 1,
   "id": "d6f9bb53",
   "metadata": {
    "_cell_guid": "b1076dfc-b9ad-4769-8c92-a6c4dae69d19",
    "_uuid": "8f2839f25d086af736a60e9eeb907d3b93b6e0e5",
    "execution": {
     "iopub.execute_input": "2025-10-27T13:26:38.879578Z",
     "iopub.status.busy": "2025-10-27T13:26:38.879159Z",
     "iopub.status.idle": "2025-10-27T13:26:43.106229Z",
     "shell.execute_reply": "2025-10-27T13:26:43.105476Z"
    },
    "papermill": {
     "duration": 4.233391,
     "end_time": "2025-10-27T13:26:43.108011",
     "exception": false,
     "start_time": "2025-10-27T13:26:38.874620",
     "status": "completed"
    },
    "tags": []
   },
   "outputs": [],
   "source": [
    "import pandas as pd\n",
    "import numpy as np\n",
    "import seaborn as sns\n",
    "import matplotlib.pyplot as plt\n",
    "import sklearn\n",
    "from sklearn.model_selection import train_test_split\n",
    "from sklearn.linear_model import LinearRegression\n",
    "from sklearn.tree import DecisionTreeRegressor\n",
    "from sklearn.metrics import mean_squared_error, r2_score, mean_absolute_error"
   ]
  },
  {
   "cell_type": "markdown",
   "id": "546cea09",
   "metadata": {
    "papermill": {
     "duration": 0.00345,
     "end_time": "2025-10-27T13:26:43.115129",
     "exception": false,
     "start_time": "2025-10-27T13:26:43.111679",
     "status": "completed"
    },
    "tags": []
   },
   "source": [
    "## 1.2 Printing CSV file\n",
    "---\n",
    "Printing the .csv file to check for errors.\n",
    "To begin cleaning data to fix errors, the column names should be known. "
   ]
  },
  {
   "cell_type": "code",
   "execution_count": 2,
   "id": "08c32adc",
   "metadata": {
    "execution": {
     "iopub.execute_input": "2025-10-27T13:26:43.123805Z",
     "iopub.status.busy": "2025-10-27T13:26:43.122821Z",
     "iopub.status.idle": "2025-10-27T13:26:43.571532Z",
     "shell.execute_reply": "2025-10-27T13:26:43.570127Z"
    },
    "papermill": {
     "duration": 0.454399,
     "end_time": "2025-10-27T13:26:43.572938",
     "exception": false,
     "start_time": "2025-10-27T13:26:43.118539",
     "status": "completed"
    },
    "tags": []
   },
   "outputs": [
    {
     "name": "stdout",
     "output_type": "stream",
     "text": [
      "             ind_id                                 ind_definition  \\\n",
      "0               752  Number of Violent Crimes per 1,000 Population   \n",
      "1               752  Number of Violent Crimes per 1,000 Population   \n",
      "2               752  Number of Violent Crimes per 1,000 Population   \n",
      "3               752  Number of Violent Crimes per 1,000 Population   \n",
      "4               752  Number of Violent Crimes per 1,000 Population   \n",
      "...             ...                                            ...   \n",
      "49222           752  Number of Violent Crimes per 1,000 Population   \n",
      "49223           752  Number of Violent Crimes per 1,000 Population   \n",
      "49224           752  Number of Violent Crimes per 1,000 Population   \n",
      "49225           752  Number of Violent Crimes per 1,000 Population   \n",
      "49226  END OF TABLE                                            NaN   \n",
      "\n",
      "       reportyear  race_eth_code race_eth_name geotype  geotypevalue  \\\n",
      "0          2000.0            9.0         Total      CA           6.0   \n",
      "1          2000.0            9.0         Total      CA           6.0   \n",
      "2          2000.0            9.0         Total      CA           6.0   \n",
      "3          2000.0            9.0         Total      CA           6.0   \n",
      "4          2000.0            9.0         Total      CA           6.0   \n",
      "...           ...            ...           ...     ...           ...   \n",
      "49222      2013.0            9.0         Total      RE          14.0   \n",
      "49223      2013.0            9.0         Total      RE          14.0   \n",
      "49224      2013.0            9.0         Total      RE          14.0   \n",
      "49225      2013.0            9.0         Total      RE          14.0   \n",
      "49226         NaN            NaN           NaN     NaN           NaN   \n",
      "\n",
      "                   geoname  county_fips county_name  ...  denominator  \\\n",
      "0               California          NaN         NaN  ...   33847694.0   \n",
      "1               California          NaN         NaN  ...   33847694.0   \n",
      "2               California          NaN         NaN  ...   33847694.0   \n",
      "3               California          NaN         NaN  ...   33847694.0   \n",
      "4               California          NaN         NaN  ...   33847694.0   \n",
      "...                    ...          ...         ...  ...          ...   \n",
      "49222  Southern California          NaN         NaN  ...   18543759.0   \n",
      "49223  Southern California          NaN         NaN  ...   18543759.0   \n",
      "49224  Southern California          NaN         NaN  ...   18543759.0   \n",
      "49225  Southern California          NaN         NaN  ...   18543759.0   \n",
      "49226                  NaN          NaN         NaN  ...          NaN   \n",
      "\n",
      "           rate   ll_95ci   ul_95ci        se       rse  ca_decile     ca_rr  \\\n",
      "0           NaN       NaN       NaN       NaN       NaN        NaN       NaN   \n",
      "1           NaN       NaN       NaN       NaN       NaN        NaN       NaN   \n",
      "2           NaN       NaN       NaN       NaN       NaN        NaN       NaN   \n",
      "3           NaN       NaN       NaN       NaN       NaN        NaN       NaN   \n",
      "4      6.217499  6.190935  6.244063  0.013553  0.217985        NaN  1.000000   \n",
      "...         ...       ...       ...       ...       ...        ...       ...   \n",
      "49222       NaN       NaN       NaN       NaN       NaN        NaN       NaN   \n",
      "49223       NaN       NaN       NaN       NaN       NaN        NaN       NaN   \n",
      "49224       NaN       NaN       NaN       NaN       NaN        NaN       NaN   \n",
      "49225  3.408640  3.382067  3.435214  0.013558  0.397750        NaN  0.860977   \n",
      "49226       NaN       NaN       NaN       NaN       NaN        NaN       NaN   \n",
      "\n",
      "       dof_population     version  \n",
      "0          33873086.0  10/21/2015  \n",
      "1          33873086.0  10/21/2015  \n",
      "2          33873086.0  10/21/2015  \n",
      "3          33873086.0  10/21/2015  \n",
      "4          33873086.0  10/21/2015  \n",
      "...               ...         ...  \n",
      "49222      18482091.0  10/21/2015  \n",
      "49223      18482091.0  10/21/2015  \n",
      "49224      18482091.0  10/21/2015  \n",
      "49225      18482091.0  10/21/2015  \n",
      "49226             NaN         NaN  \n",
      "\n",
      "[49227 rows x 27 columns]\n"
     ]
    },
    {
     "name": "stderr",
     "output_type": "stream",
     "text": [
      "/tmp/ipykernel_13/4142178713.py:1: DtypeWarning: Columns (0) have mixed types. Specify dtype option on import or set low_memory=False.\n",
      "  cali_cr = pd.read_csv(\"/kaggle/input/california-crimerate/violent-crime-rate-california-2000-2013.csv\")\n",
      "/usr/local/lib/python3.11/dist-packages/pandas/io/formats/format.py:1458: RuntimeWarning: invalid value encountered in greater\n",
      "  has_large_values = (abs_vals > 1e6).any()\n",
      "/usr/local/lib/python3.11/dist-packages/pandas/io/formats/format.py:1459: RuntimeWarning: invalid value encountered in less\n",
      "  has_small_values = ((abs_vals < 10 ** (-self.digits)) & (abs_vals > 0)).any()\n",
      "/usr/local/lib/python3.11/dist-packages/pandas/io/formats/format.py:1459: RuntimeWarning: invalid value encountered in greater\n",
      "  has_small_values = ((abs_vals < 10 ** (-self.digits)) & (abs_vals > 0)).any()\n"
     ]
    },
    {
     "data": {
      "text/plain": [
       "Index(['ind_id', 'ind_definition', 'reportyear', 'race_eth_code',\n",
       "       'race_eth_name', 'geotype', 'geotypevalue', 'geoname', 'county_fips',\n",
       "       'county_name', 'region_code', 'region_name', 'strata_name_code',\n",
       "       'strata_name', 'strata_level_name_code', 'strata_level_name',\n",
       "       'numerator', 'denominator', 'rate', 'll_95ci', 'ul_95ci', 'se', 'rse',\n",
       "       'ca_decile', 'ca_rr', 'dof_population', 'version'],\n",
       "      dtype='object')"
      ]
     },
     "execution_count": 2,
     "metadata": {},
     "output_type": "execute_result"
    }
   ],
   "source": [
    "cali_cr = pd.read_csv(\"/kaggle/input/california-crimerate/violent-crime-rate-california-2000-2013.csv\")\n",
    "print(cali_cr)\n",
    "cali_cr.columns"
   ]
  },
  {
   "cell_type": "markdown",
   "id": "5426fe1e",
   "metadata": {
    "papermill": {
     "duration": 0.003579,
     "end_time": "2025-10-27T13:26:43.580488",
     "exception": false,
     "start_time": "2025-10-27T13:26:43.576909",
     "status": "completed"
    },
    "tags": []
   },
   "source": [
    "## 1.3 Cleaning\n",
    "---\n",
    "Some records are used for formatting text only, which means they aren't useful for data collection. However, we can still reference some of them during the visualization stage in regards to labels. "
   ]
  },
  {
   "cell_type": "code",
   "execution_count": 3,
   "id": "a445f3bf",
   "metadata": {
    "execution": {
     "iopub.execute_input": "2025-10-27T13:26:43.589062Z",
     "iopub.status.busy": "2025-10-27T13:26:43.588749Z",
     "iopub.status.idle": "2025-10-27T13:26:43.607951Z",
     "shell.execute_reply": "2025-10-27T13:26:43.606827Z"
    },
    "papermill": {
     "duration": 0.025484,
     "end_time": "2025-10-27T13:26:43.609522",
     "exception": false,
     "start_time": "2025-10-27T13:26:43.584038",
     "status": "completed"
    },
    "tags": []
   },
   "outputs": [
    {
     "name": "stdout",
     "output_type": "stream",
     "text": [
      "       reportyear     county_name  numerator  denominator      rate\n",
      "9          2000.0         Alameda     9503.0    1443741.0  6.582206\n",
      "14         2000.0          Alpine       10.0       1208.0  8.278146\n",
      "19         2000.0          Amador      179.0      34120.0  5.246190\n",
      "24         2000.0           Butte      699.0     203171.0  3.440452\n",
      "29         2000.0       Calaveras      118.0      40554.0  2.909701\n",
      "...           ...             ...        ...          ...       ...\n",
      "49131      2013.0          Orange       30.0      67492.0  0.444497\n",
      "49139      2013.0        Siskiyou       49.0       7639.0  6.414452\n",
      "49144      2013.0          Sutter      174.0      65133.0  2.671457\n",
      "49149      2013.0  San Bernardino      107.0      52524.0  2.037164\n",
      "49154      2013.0  San Bernardino       86.0      21214.0  4.053927\n",
      "\n",
      "[7113 rows x 5 columns]\n"
     ]
    }
   ],
   "source": [
    "droplist = ['ind_id', 'ind_definition', 'race_eth_code', 'race_eth_name', 'geotype', 'geotypevalue', 'county_fips', 'region_code', 'strata_name_code', 'strata_name', 'strata_level_name_code', 'strata_level_name', 'ca_decile', 'ca_rr', 'dof_population', 'version']\n",
    "cali_cr_clean = cali_cr.dropna(subset=['county_name', 'rate'])\n",
    "cali_cr_clean = cali_cr_clean[['reportyear', 'county_name', 'numerator', 'denominator', 'rate']]\n",
    "\n",
    "print(cali_cr_clean)"
   ]
  },
  {
   "cell_type": "markdown",
   "id": "c8237a1b",
   "metadata": {
    "papermill": {
     "duration": 0.003634,
     "end_time": "2025-10-27T13:26:43.617300",
     "exception": false,
     "start_time": "2025-10-27T13:26:43.613666",
     "status": "completed"
    },
    "tags": []
   },
   "source": [
    "In the described data, it seems like the highest rate is at **795** in <u>Vernon City</u>. It raised some flags, so checking the reason was necessary. After a quick search, it was indeed true that the population of residents was low (**93**), but apparently the city itself is just **full of workers** since it's an \"**exclusively industrial area**\". Similarly, the second highest rate that was another city is called <u>Industry City</u>. We can then assume that they face similar issues of extremely high / skewed population to crime-rate ratios."
   ]
  },
  {
   "cell_type": "markdown",
   "id": "4cd31214",
   "metadata": {
    "papermill": {
     "duration": 0.003713,
     "end_time": "2025-10-27T13:26:43.625372",
     "exception": false,
     "start_time": "2025-10-27T13:26:43.621659",
     "status": "completed"
    },
    "tags": []
   },
   "source": [
    "## 1.4 Regression Task & Visualization\n",
    "---\n",
    "Reported "
   ]
  },
  {
   "cell_type": "markdown",
   "id": "213b1a55",
   "metadata": {
    "papermill": {
     "duration": 0.003633,
     "end_time": "2025-10-27T13:26:43.633013",
     "exception": false,
     "start_time": "2025-10-27T13:26:43.629380",
     "status": "completed"
    },
    "tags": []
   },
   "source": [
    "### 1.41 Decision Tree Regression\n",
    "---"
   ]
  },
  {
   "cell_type": "code",
   "execution_count": 4,
   "id": "e87ecd3d",
   "metadata": {
    "execution": {
     "iopub.execute_input": "2025-10-27T13:26:43.642811Z",
     "iopub.status.busy": "2025-10-27T13:26:43.641927Z",
     "iopub.status.idle": "2025-10-27T13:26:43.708808Z",
     "shell.execute_reply": "2025-10-27T13:26:43.707811Z"
    },
    "papermill": {
     "duration": 0.073378,
     "end_time": "2025-10-27T13:26:43.710283",
     "exception": false,
     "start_time": "2025-10-27T13:26:43.636905",
     "status": "completed"
    },
    "tags": []
   },
   "outputs": [
    {
     "name": "stdout",
     "output_type": "stream",
     "text": [
      "[5.94009844 5.84307179 2.5743783  ... 2.65172958 2.1192855  3.99076834]\n"
     ]
    }
   ],
   "source": [
    "# --- County names are strings which cannot be read by the model ---\n",
    "combined = pd.get_dummies(cali_cr_clean, columns=['county_name'], drop_first=True)\n",
    "\n",
    "# --- Predicting future trends based on 2000-2010 data ---\n",
    "train = combined[combined['reportyear'] <= 2010]\n",
    "test  = combined[combined['reportyear'] > 2010]\n",
    "\n",
    "# --- 2000-2010 data ---\n",
    "train_X = train.drop(columns=['rate'])\n",
    "train_y = train['rate']\n",
    "\n",
    "# --- 2011-2013 data ---\n",
    "val_X = test.drop(columns=['rate'])\n",
    "val_y = test['rate']\n",
    "\n",
    "# --- Decision Tree Regression Model ---\n",
    "crimerate_model = DecisionTreeRegressor(random_state=1)\n",
    "crimerate_model.fit(train_X, train_y)\n",
    "\n",
    "# --- Making predictions ---\n",
    "val_predictions = crimerate_model.predict(val_X)\n",
    "\n",
    "# --- Copying data to test and adding predicted crime rates ---\n",
    "test = combined[combined['reportyear'] > 2010].copy()\n",
    "test['predicted_rate'] = val_predictions\n",
    "\n",
    "print(val_predictions)"
   ]
  },
  {
   "cell_type": "code",
   "execution_count": 5,
   "id": "16de5826",
   "metadata": {
    "execution": {
     "iopub.execute_input": "2025-10-27T13:26:43.720226Z",
     "iopub.status.busy": "2025-10-27T13:26:43.719379Z",
     "iopub.status.idle": "2025-10-27T13:26:44.018114Z",
     "shell.execute_reply": "2025-10-27T13:26:44.017283Z"
    },
    "papermill": {
     "duration": 0.305322,
     "end_time": "2025-10-27T13:26:44.019828",
     "exception": false,
     "start_time": "2025-10-27T13:26:43.714506",
     "status": "completed"
    },
    "tags": []
   },
   "outputs": [
    {
     "data": {
      "image/png": "[encoded data removed]",
      "text/plain": [
       "<Figure size 1000x500 with 1 Axes>"
      ]
     },
     "metadata": {},
     "output_type": "display_data"
    }
   ],
   "source": [
    "import matplotlib.pyplot as plt\n",
    "\n",
    "actual_data = cali_cr_clean.groupby('reportyear')['rate'].mean()\n",
    "predicted_data = test.groupby('reportyear')['predicted_rate'].mean()\n",
    "\n",
    "plt.figure(figsize=(10,5))\n",
    "plt.plot(actual_data.index, actual_data.values, marker='o', label='Actual')\n",
    "plt.plot(predicted_data.index, predicted_data.values, marker='x', label='Predicted')\n",
    "plt.xlabel(\"Year\")\n",
    "plt.ylabel(\"Crime Rate\")\n",
    "plt.title(\"Actual vs Predicted Violent Crime Rate in California (2000-2013)\")\n",
    "plt.legend()\n",
    "plt.grid(True)\n",
    "plt.show()\n"
   ]
  },
  {
   "cell_type": "code",
   "execution_count": 6,
   "id": "67e6f6df",
   "metadata": {
    "execution": {
     "iopub.execute_input": "2025-10-27T13:26:44.031340Z",
     "iopub.status.busy": "2025-10-27T13:26:44.030981Z",
     "iopub.status.idle": "2025-10-27T13:26:44.039508Z",
     "shell.execute_reply": "2025-10-27T13:26:44.038421Z"
    },
    "papermill": {
     "duration": 0.015876,
     "end_time": "2025-10-27T13:26:44.040832",
     "exception": false,
     "start_time": "2025-10-27T13:26:44.024956",
     "status": "completed"
    },
    "tags": []
   },
   "outputs": [
    {
     "name": "stdout",
     "output_type": "stream",
     "text": [
      "Predicted crime rates 2011-2013:\n",
      "[5.94009844 5.84307179 2.5743783  3.03942555 2.78356115]\n",
      "\n",
      "Actual crime rates 2011-2013:\n",
      "[7.05812597 5.88730025 2.54287864 2.58776383 2.60224661]\n",
      "\n",
      "Training data:\n",
      "9     6.582206\n",
      "14    8.278146\n",
      "19    5.246190\n",
      "24    3.440452\n",
      "29    2.909701\n",
      "Name: rate, dtype: float64\n",
      "\n",
      "Mean Absolute Error: 0.4813252669849279\n"
     ]
    }
   ],
   "source": [
    "print(f\"Predicted crime rates 2011-2013:\\n{val_predictions[0:5]}\\n\")\n",
    "print(f\"Actual crime rates 2011-2013:\\n{val_y.values[0:5]}\\n\")\n",
    "print(f\"Training data:\\n{train_y.head()}\")\n",
    "\n",
    "val_mae = mean_absolute_error(val_y, val_predictions)\n",
    "print(f\"\\nMean Absolute Error: {val_mae}\")"
   ]
  },
  {
   "cell_type": "markdown",
   "id": "c433e6b2",
   "metadata": {
    "papermill": {
     "duration": 0.004368,
     "end_time": "2025-10-27T13:26:44.050003",
     "exception": false,
     "start_time": "2025-10-27T13:26:44.045635",
     "status": "completed"
    },
    "tags": []
   },
   "source": [
    "### 1.42 Model Validation\n",
    "---\n",
    "Predicted values are hovering around similar values."
   ]
  },
  {
   "cell_type": "markdown",
   "id": "c01b8c70",
   "metadata": {
    "papermill": {
     "duration": 0.004336,
     "end_time": "2025-10-27T13:26:44.059191",
     "exception": false,
     "start_time": "2025-10-27T13:26:44.054855",
     "status": "completed"
    },
    "tags": []
   },
   "source": [
    "### 1.51 Linear Regression\n",
    "---\n",
    "Unsure if this is needed"
   ]
  },
  {
   "cell_type": "code",
   "execution_count": 7,
   "id": "8cdd580e",
   "metadata": {
    "execution": {
     "iopub.execute_input": "2025-10-27T13:26:44.069349Z",
     "iopub.status.busy": "2025-10-27T13:26:44.069057Z",
     "iopub.status.idle": "2025-10-27T13:26:44.097121Z",
     "shell.execute_reply": "2025-10-27T13:26:44.096105Z"
    },
    "papermill": {
     "duration": 0.035004,
     "end_time": "2025-10-27T13:26:44.098716",
     "exception": false,
     "start_time": "2025-10-27T13:26:44.063712",
     "status": "completed"
    },
    "tags": []
   },
   "outputs": [
    {
     "name": "stdout",
     "output_type": "stream",
     "text": [
      "[6.47559437 6.32137846 6.16716255 6.01294663 5.85873072 5.70451481\n",
      " 5.5502989  5.39608298 5.24186707 5.08765116 4.93343525 4.77921934\n",
      " 4.62500342 4.47078751]\n"
     ]
    }
   ],
   "source": [
    "yearly_trend = cali_cr_clean.groupby('reportyear')['rate'].mean()\n",
    "\n",
    "x = yearly_trend.index.values.reshape(-1, 1)\n",
    "y = yearly_trend.values                       \n",
    "\n",
    "model = LinearRegression()\n",
    "model.fit(x, y)\n",
    "\n",
    "y_pred = model.predict(x)\n",
    "print(y_pred)"
   ]
  },
  {
   "cell_type": "markdown",
   "id": "a8e1a349",
   "metadata": {
    "papermill": {
     "duration": 0.004652,
     "end_time": "2025-10-27T13:26:44.108294",
     "exception": false,
     "start_time": "2025-10-27T13:26:44.103642",
     "status": "completed"
    },
    "tags": []
   },
   "source": [
    "### Line Graph"
   ]
  },
  {
   "cell_type": "code",
   "execution_count": 8,
   "id": "3d003366",
   "metadata": {
    "execution": {
     "iopub.execute_input": "2025-10-27T13:26:44.119229Z",
     "iopub.status.busy": "2025-10-27T13:26:44.118908Z",
     "iopub.status.idle": "2025-10-27T13:26:44.344181Z",
     "shell.execute_reply": "2025-10-27T13:26:44.342904Z"
    },
    "papermill": {
     "duration": 0.232966,
     "end_time": "2025-10-27T13:26:44.346108",
     "exception": false,
     "start_time": "2025-10-27T13:26:44.113142",
     "status": "completed"
    },
    "tags": []
   },
   "outputs": [
    {
     "data": {
      "image/png": "[encoded data removed]",
      "text/plain": [
       "<Figure size 1000x500 with 1 Axes>"
      ]
     },
     "metadata": {},
     "output_type": "display_data"
    }
   ],
   "source": [
    "plt.figure(figsize=(10,5))\n",
    "plt.scatter(x, y, label='Actual')\n",
    "plt.plot(x, y_pred, color='red', label='Trend')\n",
    "plt.title('Violent Crime Rate in California (2000–2013)')\n",
    "plt.xlabel('Year')\n",
    "plt.ylabel('Crime Rate')\n",
    "plt.grid()\n",
    "plt.legend()\n",
    "plt.show()"
   ]
  },
  {
   "cell_type": "markdown",
   "id": "0bd7ad3f",
   "metadata": {
    "papermill": {
     "duration": 0.00513,
     "end_time": "2025-10-27T13:26:44.357233",
     "exception": false,
     "start_time": "2025-10-27T13:26:44.352103",
     "status": "completed"
    },
    "tags": []
   },
   "source": [
    "### 1.52 Heatmap\n",
    "---\n",
    "May make things more complicated"
   ]
  },
  {
   "cell_type": "markdown",
   "id": "27959ab0",
   "metadata": {
    "papermill": {
     "duration": 0.005285,
     "end_time": "2025-10-27T13:26:44.368004",
     "exception": false,
     "start_time": "2025-10-27T13:26:44.362719",
     "status": "completed"
    },
    "tags": []
   },
   "source": [
    "---\n",
    "## 2.1 Dataset Description\n",
    "This dataset was retrieved from (https://data.chhs.ca.gov/dataset/violent-crime-rate-california-2006-2010).\n",
    "\n",
    "To better understand what the terms mean in the file, they will be described in this section. Only the remaining columns (not dropped) will be used.\n",
    "\n",
    "numerator = Number of crimes by type of crime (in this case, the total amount of crimes)\n",
    "denominator = Total population reported by the FBI\n",
    "\n",
    "## 2.2 Preprocessing\n",
    "To better understand\n",
    "\n",
    "\n",
    "## 2.3 Model Implementation\n",
    "\n",
    "\n",
    "## 2.4 Results\n",
    "\n",
    "\n",
    "## 2.5 Interpretation\n"
   ]
  }
 ],
 "metadata": {
  "kaggle": {
   "accelerator": "none",
   "dataSources": [
    {
     "datasetId": 8519395,
     "sourceId": 13422826,
     "sourceType": "datasetVersion"
    }
   ],
   "dockerImageVersionId": 31153,
   "isGpuEnabled": false,
   "isInternetEnabled": false,
   "language": "python",
   "sourceType": "notebook"
  },
  "kernelspec": {
   "display_name": "Python 3",
   "language": "python",
   "name": "python3"
  },
  "language_info": {
   "codemirror_mode": {
    "name": "ipython",
    "version": 3
   },
   "file_extension": ".py",
   "mimetype": "text/x-python",
   "name": "python",
   "nbconvert_exporter": "python",
   "pygments_lexer": "ipython3",
   "version": "3.11.13"
  },
  "papermill": {
   "default_parameters": {},
   "duration": 10.894216,
   "end_time": "2025-10-27T13:26:45.093029",
   "environment_variables": {},
   "exception": null,
   "input_path": "__notebook__.ipynb",
   "output_path": "__notebook__.ipynb",
   "parameters": {},
   "start_time": "2025-10-27T13:26:34.198813",
   "version": "2.6.0"
  }
 },
 "nbformat": 4,
 "nbformat_minor": 5
}
