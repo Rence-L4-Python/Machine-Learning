{
 "cells": [
  {
   "cell_type": "markdown",
   "id": "dc92fcff",
   "metadata": {
    "papermill": {
     "duration": 0.003163,
     "end_time": "2025-10-18T12:36:37.120336",
     "exception": false,
     "start_time": "2025-10-18T12:36:37.117173",
     "status": "completed"
    },
    "tags": []
   },
   "source": [
    "# **<span style=\"color: red;\">REGRESSION TASK</span>**"
   ]
  },
  {
   "cell_type": "markdown",
   "id": "6613ec35",
   "metadata": {
    "papermill": {
     "duration": 0.002204,
     "end_time": "2025-10-18T12:36:37.125332",
     "exception": false,
     "start_time": "2025-10-18T12:36:37.123128",
     "status": "completed"
    },
    "tags": []
   },
   "source": [
    "# 1. Violent Crime Rate California 2000-2013\n",
    "---\n",
    "***(https://catalog.data.gov/dataset/violent-crime-rate-94cb9)***"
   ]
  },
  {
   "cell_type": "markdown",
   "id": "56f9d33c",
   "metadata": {
    "papermill": {
     "duration": 0.002244,
     "end_time": "2025-10-18T12:36:37.130054",
     "exception": false,
     "start_time": "2025-10-18T12:36:37.127810",
     "status": "completed"
    },
    "tags": []
   },
   "source": [
    "## 1.1 Importing Libraries\n",
    "---\n",
    "Mandatory for starting the regression task."
   ]
  },
  {
   "cell_type": "code",
   "execution_count": 1,
   "id": "55660de7",
   "metadata": {
    "_cell_guid": "b1076dfc-b9ad-4769-8c92-a6c4dae69d19",
    "_uuid": "8f2839f25d086af736a60e9eeb907d3b93b6e0e5",
    "execution": {
     "iopub.execute_input": "2025-10-18T12:36:37.136730Z",
     "iopub.status.busy": "2025-10-18T12:36:37.136385Z",
     "iopub.status.idle": "2025-10-18T12:36:41.381113Z",
     "shell.execute_reply": "2025-10-18T12:36:41.379855Z"
    },
    "papermill": {
     "duration": 4.250585,
     "end_time": "2025-10-18T12:36:41.383142",
     "exception": false,
     "start_time": "2025-10-18T12:36:37.132557",
     "status": "completed"
    },
    "tags": []
   },
   "outputs": [],
   "source": [
    "import pandas as pd\n",
    "import numpy as np\n",
    "import matplotlib.pyplot as plt\n",
    "import sklearn\n",
    "from sklearn.model_selection import train_test_split\n",
    "from sklearn.linear_model import LinearRegression\n",
    "from sklearn.metrics import mean_squared_error, r2_score"
   ]
  },
  {
   "cell_type": "markdown",
   "id": "ebb5c109",
   "metadata": {
    "papermill": {
     "duration": 0.002256,
     "end_time": "2025-10-18T12:36:41.388158",
     "exception": false,
     "start_time": "2025-10-18T12:36:41.385902",
     "status": "completed"
    },
    "tags": []
   },
   "source": [
    "## 1.2 Print\n",
    "---\n",
    "Printing the .csv file to check for errors"
   ]
  },
  {
   "cell_type": "code",
   "execution_count": 2,
   "id": "e6d5c361",
   "metadata": {
    "execution": {
     "iopub.execute_input": "2025-10-18T12:36:41.394795Z",
     "iopub.status.busy": "2025-10-18T12:36:41.394186Z",
     "iopub.status.idle": "2025-10-18T12:36:41.863358Z",
     "shell.execute_reply": "2025-10-18T12:36:41.861660Z"
    },
    "papermill": {
     "duration": 0.474705,
     "end_time": "2025-10-18T12:36:41.865332",
     "exception": false,
     "start_time": "2025-10-18T12:36:41.390627",
     "status": "completed"
    },
    "tags": []
   },
   "outputs": [
    {
     "name": "stdout",
     "output_type": "stream",
     "text": [
      "             ind_id                                 ind_definition  \\\n",
      "0               752  Number of Violent Crimes per 1,000 Population   \n",
      "1               752  Number of Violent Crimes per 1,000 Population   \n",
      "2               752  Number of Violent Crimes per 1,000 Population   \n",
      "3               752  Number of Violent Crimes per 1,000 Population   \n",
      "4               752  Number of Violent Crimes per 1,000 Population   \n",
      "...             ...                                            ...   \n",
      "49222           752  Number of Violent Crimes per 1,000 Population   \n",
      "49223           752  Number of Violent Crimes per 1,000 Population   \n",
      "49224           752  Number of Violent Crimes per 1,000 Population   \n",
      "49225           752  Number of Violent Crimes per 1,000 Population   \n",
      "49226  END OF TABLE                                            NaN   \n",
      "\n",
      "       reportyear  race_eth_code race_eth_name geotype  geotypevalue  \\\n",
      "0          2000.0            9.0         Total      CA           6.0   \n",
      "1          2000.0            9.0         Total      CA           6.0   \n",
      "2          2000.0            9.0         Total      CA           6.0   \n",
      "3          2000.0            9.0         Total      CA           6.0   \n",
      "4          2000.0            9.0         Total      CA           6.0   \n",
      "...           ...            ...           ...     ...           ...   \n",
      "49222      2013.0            9.0         Total      RE          14.0   \n",
      "49223      2013.0            9.0         Total      RE          14.0   \n",
      "49224      2013.0            9.0         Total      RE          14.0   \n",
      "49225      2013.0            9.0         Total      RE          14.0   \n",
      "49226         NaN            NaN           NaN     NaN           NaN   \n",
      "\n",
      "                   geoname  county_fips county_name  ...  denominator  \\\n",
      "0               California          NaN         NaN  ...   33847694.0   \n",
      "1               California          NaN         NaN  ...   33847694.0   \n",
      "2               California          NaN         NaN  ...   33847694.0   \n",
      "3               California          NaN         NaN  ...   33847694.0   \n",
      "4               California          NaN         NaN  ...   33847694.0   \n",
      "...                    ...          ...         ...  ...          ...   \n",
      "49222  Southern California          NaN         NaN  ...   18543759.0   \n",
      "49223  Southern California          NaN         NaN  ...   18543759.0   \n",
      "49224  Southern California          NaN         NaN  ...   18543759.0   \n",
      "49225  Southern California          NaN         NaN  ...   18543759.0   \n",
      "49226                  NaN          NaN         NaN  ...          NaN   \n",
      "\n",
      "           rate   ll_95ci   ul_95ci        se       rse  ca_decile     ca_rr  \\\n",
      "0           NaN       NaN       NaN       NaN       NaN        NaN       NaN   \n",
      "1           NaN       NaN       NaN       NaN       NaN        NaN       NaN   \n",
      "2           NaN       NaN       NaN       NaN       NaN        NaN       NaN   \n",
      "3           NaN       NaN       NaN       NaN       NaN        NaN       NaN   \n",
      "4      6.217499  6.190935  6.244063  0.013553  0.217985        NaN  1.000000   \n",
      "...         ...       ...       ...       ...       ...        ...       ...   \n",
      "49222       NaN       NaN       NaN       NaN       NaN        NaN       NaN   \n",
      "49223       NaN       NaN       NaN       NaN       NaN        NaN       NaN   \n",
      "49224       NaN       NaN       NaN       NaN       NaN        NaN       NaN   \n",
      "49225  3.408640  3.382067  3.435214  0.013558  0.397750        NaN  0.860977   \n",
      "49226       NaN       NaN       NaN       NaN       NaN        NaN       NaN   \n",
      "\n",
      "       dof_population     version  \n",
      "0          33873086.0  10/21/2015  \n",
      "1          33873086.0  10/21/2015  \n",
      "2          33873086.0  10/21/2015  \n",
      "3          33873086.0  10/21/2015  \n",
      "4          33873086.0  10/21/2015  \n",
      "...               ...         ...  \n",
      "49222      18482091.0  10/21/2015  \n",
      "49223      18482091.0  10/21/2015  \n",
      "49224      18482091.0  10/21/2015  \n",
      "49225      18482091.0  10/21/2015  \n",
      "49226             NaN         NaN  \n",
      "\n",
      "[49227 rows x 27 columns]\n"
     ]
    },
    {
     "name": "stderr",
     "output_type": "stream",
     "text": [
      "/tmp/ipykernel_13/3455737484.py:1: DtypeWarning: Columns (0) have mixed types. Specify dtype option on import or set low_memory=False.\n",
      "  data = pd.read_csv(\"/kaggle/input/california-crimerate/violent-crime-rate-california-2000-2013.csv\")\n",
      "/usr/local/lib/python3.11/dist-packages/pandas/io/formats/format.py:1458: RuntimeWarning: invalid value encountered in greater\n",
      "  has_large_values = (abs_vals > 1e6).any()\n",
      "/usr/local/lib/python3.11/dist-packages/pandas/io/formats/format.py:1459: RuntimeWarning: invalid value encountered in less\n",
      "  has_small_values = ((abs_vals < 10 ** (-self.digits)) & (abs_vals > 0)).any()\n",
      "/usr/local/lib/python3.11/dist-packages/pandas/io/formats/format.py:1459: RuntimeWarning: invalid value encountered in greater\n",
      "  has_small_values = ((abs_vals < 10 ** (-self.digits)) & (abs_vals > 0)).any()\n"
     ]
    }
   ],
   "source": [
    "data = pd.read_csv(\"/kaggle/input/california-crimerate/violent-crime-rate-california-2000-2013.csv\")\n",
    "print(data)"
   ]
  },
  {
   "cell_type": "markdown",
   "id": "f5d3a799",
   "metadata": {
    "papermill": {
     "duration": 0.002565,
     "end_time": "2025-10-18T12:36:41.870961",
     "exception": false,
     "start_time": "2025-10-18T12:36:41.868396",
     "status": "completed"
    },
    "tags": []
   },
   "source": [
    "## 1.3 Checking Column Names\n",
    "---\n",
    "To begin cleaning data to fix errors, the column names should be known."
   ]
  },
  {
   "cell_type": "code",
   "execution_count": 3,
   "id": "351796ae",
   "metadata": {
    "execution": {
     "iopub.execute_input": "2025-10-18T12:36:41.877745Z",
     "iopub.status.busy": "2025-10-18T12:36:41.877415Z",
     "iopub.status.idle": "2025-10-18T12:36:41.884491Z",
     "shell.execute_reply": "2025-10-18T12:36:41.883477Z"
    },
    "papermill": {
     "duration": 0.012816,
     "end_time": "2025-10-18T12:36:41.886463",
     "exception": false,
     "start_time": "2025-10-18T12:36:41.873647",
     "status": "completed"
    },
    "tags": []
   },
   "outputs": [
    {
     "name": "stdout",
     "output_type": "stream",
     "text": [
      "Index(['ind_id', 'ind_definition', 'reportyear', 'race_eth_code',\n",
      "       'race_eth_name', 'geotype', 'geotypevalue', 'geoname', 'county_fips',\n",
      "       'county_name', 'region_code', 'region_name', 'strata_name_code',\n",
      "       'strata_name', 'strata_level_name_code', 'strata_level_name',\n",
      "       'numerator', 'denominator', 'rate', 'll_95ci', 'ul_95ci', 'se', 'rse',\n",
      "       'ca_decile', 'ca_rr', 'dof_population', 'version'],\n",
      "      dtype='object')\n"
     ]
    }
   ],
   "source": [
    "print(data.columns)"
   ]
  },
  {
   "cell_type": "markdown",
   "id": "19f8ec3b",
   "metadata": {
    "papermill": {
     "duration": 0.002667,
     "end_time": "2025-10-18T12:36:41.892320",
     "exception": false,
     "start_time": "2025-10-18T12:36:41.889653",
     "status": "completed"
    },
    "tags": []
   },
   "source": [
    "## 1.4 Cleaning\n",
    "---\n",
    "Records without values are causing errors to appear in section **1.2 Print**."
   ]
  },
  {
   "cell_type": "code",
   "execution_count": 4,
   "id": "1a809bc9",
   "metadata": {
    "execution": {
     "iopub.execute_input": "2025-10-18T12:36:41.899496Z",
     "iopub.status.busy": "2025-10-18T12:36:41.899139Z",
     "iopub.status.idle": "2025-10-18T12:36:41.988402Z",
     "shell.execute_reply": "2025-10-18T12:36:41.986991Z"
    },
    "papermill": {
     "duration": 0.094888,
     "end_time": "2025-10-18T12:36:41.990119",
     "exception": false,
     "start_time": "2025-10-18T12:36:41.895231",
     "status": "completed"
    },
    "tags": []
   },
   "outputs": [
    {
     "name": "stdout",
     "output_type": "stream",
     "text": [
      "      ind_id                                 ind_definition  reportyear  \\\n",
      "300      752  Number of Violent Crimes per 1,000 Population      2000.0   \n",
      "305      752  Number of Violent Crimes per 1,000 Population      2000.0   \n",
      "310      752  Number of Violent Crimes per 1,000 Population      2000.0   \n",
      "316      752  Number of Violent Crimes per 1,000 Population      2000.0   \n",
      "321      752  Number of Violent Crimes per 1,000 Population      2000.0   \n",
      "...      ...                                            ...         ...   \n",
      "49131    752  Number of Violent Crimes per 1,000 Population      2013.0   \n",
      "49139    752  Number of Violent Crimes per 1,000 Population      2013.0   \n",
      "49144    752  Number of Violent Crimes per 1,000 Population      2013.0   \n",
      "49149    752  Number of Violent Crimes per 1,000 Population      2013.0   \n",
      "49154    752  Number of Violent Crimes per 1,000 Population      2013.0   \n",
      "\n",
      "       race_eth_code race_eth_name geotype  geotypevalue            geoname  \\\n",
      "300              9.0         Total      PL         296.0      Adelanto city   \n",
      "305              9.0         Total      PL         394.0  Agoura Hills city   \n",
      "310              9.0         Total      PL         562.0       Alameda city   \n",
      "316              9.0         Total      PL         674.0        Albany city   \n",
      "321              9.0         Total      PL         884.0      Alhambra city   \n",
      "...              ...           ...     ...           ...                ...   \n",
      "49131            9.0         Total      PL       86832.0   Yorba Linda city   \n",
      "49139            9.0         Total      PL       86944.0         Yreka city   \n",
      "49144            9.0         Total      PL       86972.0     Yuba City city   \n",
      "49149            9.0         Total      PL       87042.0       Yucaipa city   \n",
      "49154            9.0         Total      PL       87056.0  Yucca Valley town   \n",
      "\n",
      "       county_fips     county_name  ...  denominator      rate   ll_95ci  \\\n",
      "300         6071.0  San Bernardino  ...      18130.0  6.563707  5.384386   \n",
      "305         6037.0     Los Angeles  ...      20537.0  1.752934  1.180309   \n",
      "310         6001.0         Alameda  ...      72259.0  4.179410  3.708034   \n",
      "316         6001.0         Alameda  ...      16444.0  5.351496  4.233372   \n",
      "321         6037.0     Los Angeles  ...      85804.0  2.948580  2.585244   \n",
      "...            ...             ...  ...          ...       ...       ...   \n",
      "49131       6059.0          Orange  ...      67492.0  0.444497  0.285436   \n",
      "49139       6093.0        Siskiyou  ...       7639.0  6.414452  4.618406   \n",
      "49144       6101.0          Sutter  ...      65133.0  2.671457  2.274513   \n",
      "49149       6071.0  San Bernardino  ...      52524.0  2.037164  1.651161   \n",
      "49154       6071.0  San Bernardino  ...      21214.0  4.053927  3.197120   \n",
      "\n",
      "        ul_95ci        se        rse  ca_decile     ca_rr  dof_population  \\\n",
      "300    7.743027  0.601694   9.166985        3.0  1.055683         18130.0   \n",
      "305    2.325559  0.292156  16.666667        9.0  0.281936         20537.0   \n",
      "310    4.650786  0.240498   5.754353        5.0  0.672201         72259.0   \n",
      "316    6.469620  0.570471  10.660036        4.0  0.860715         16444.0   \n",
      "321    3.311917  0.185376   6.286946        7.0  0.474239         85757.0   \n",
      "...         ...       ...        ...        ...       ...             ...   \n",
      "49131  0.603558  0.081154  18.257419       10.0  0.112274         66808.0   \n",
      "49139  8.210499  0.916350  14.285714        2.0  1.620204          7853.0   \n",
      "49144  3.068401  0.202523   7.580980        6.0  0.674774         65401.0   \n",
      "49149  2.423167  0.196940   9.667365        7.0  0.514560         52486.0   \n",
      "49154  4.910733  0.437146  10.783277        3.0  1.023967         20995.0   \n",
      "\n",
      "          version  \n",
      "300    10/21/2015  \n",
      "305    10/21/2015  \n",
      "310    10/21/2015  \n",
      "316    10/21/2015  \n",
      "321    10/21/2015  \n",
      "...           ...  \n",
      "49131  10/21/2015  \n",
      "49139  10/21/2015  \n",
      "49144  10/21/2015  \n",
      "49149  10/21/2015  \n",
      "49154  10/21/2015  \n",
      "\n",
      "[6251 rows x 27 columns]\n",
      "\n"
     ]
    }
   ],
   "source": [
    "data.dropna(inplace=True)\n",
    "print(data)\n",
    "print() # space\n",
    "data.describe() # check to see if any more data needs to be dropped\n",
    "droplist = ['ind_id', 'race_eth_code', 'race_eth_name', 'geotype', 'geotypevalue', 'county_fips', 'region_code', 'strata_name_code', 'strata_level_name_code']\n",
    "data.drop(droplist, axis=1, inplace=True)"
   ]
  },
  {
   "cell_type": "markdown",
   "id": "4bbcefe4",
   "metadata": {
    "papermill": {
     "duration": 0.002644,
     "end_time": "2025-10-18T12:36:41.995900",
     "exception": false,
     "start_time": "2025-10-18T12:36:41.993256",
     "status": "completed"
    },
    "tags": []
   },
   "source": [
    "## 1.5 Checking"
   ]
  },
  {
   "cell_type": "code",
   "execution_count": 5,
   "id": "609fc87e",
   "metadata": {
    "execution": {
     "iopub.execute_input": "2025-10-18T12:36:42.002808Z",
     "iopub.status.busy": "2025-10-18T12:36:42.002504Z",
     "iopub.status.idle": "2025-10-18T12:36:42.040475Z",
     "shell.execute_reply": "2025-10-18T12:36:42.039472Z"
    },
    "papermill": {
     "duration": 0.043565,
     "end_time": "2025-10-18T12:36:42.042267",
     "exception": false,
     "start_time": "2025-10-18T12:36:41.998702",
     "status": "completed"
    },
    "tags": []
   },
   "outputs": [
    {
     "name": "stdout",
     "output_type": "stream",
     "text": [
      "                                      ind_definition  reportyear  \\\n",
      "300    Number of Violent Crimes per 1,000 Population      2000.0   \n",
      "305    Number of Violent Crimes per 1,000 Population      2000.0   \n",
      "310    Number of Violent Crimes per 1,000 Population      2000.0   \n",
      "316    Number of Violent Crimes per 1,000 Population      2000.0   \n",
      "321    Number of Violent Crimes per 1,000 Population      2000.0   \n",
      "...                                              ...         ...   \n",
      "49131  Number of Violent Crimes per 1,000 Population      2013.0   \n",
      "49139  Number of Violent Crimes per 1,000 Population      2013.0   \n",
      "49144  Number of Violent Crimes per 1,000 Population      2013.0   \n",
      "49149  Number of Violent Crimes per 1,000 Population      2013.0   \n",
      "49154  Number of Violent Crimes per 1,000 Population      2013.0   \n",
      "\n",
      "                 geoname     county_name          region_name  \\\n",
      "300        Adelanto city  San Bernardino  Southern California   \n",
      "305    Agoura Hills city     Los Angeles  Southern California   \n",
      "310         Alameda city         Alameda             Bay Area   \n",
      "316          Albany city         Alameda             Bay Area   \n",
      "321        Alhambra city     Los Angeles  Southern California   \n",
      "...                  ...             ...                  ...   \n",
      "49131   Yorba Linda city          Orange  Southern California   \n",
      "49139         Yreka city        Siskiyou     Northeast Sierra   \n",
      "49144     Yuba City city          Sutter      Sacramento Area   \n",
      "49149       Yucaipa city  San Bernardino  Southern California   \n",
      "49154  Yucca Valley town  San Bernardino  Southern California   \n",
      "\n",
      "                 strata_name    strata_level_name  numerator  denominator  \\\n",
      "300    Type of violent crime  Violent crime total      119.0      18130.0   \n",
      "305    Type of violent crime  Violent crime total       36.0      20537.0   \n",
      "310    Type of violent crime  Violent crime total      302.0      72259.0   \n",
      "316    Type of violent crime  Violent crime total       88.0      16444.0   \n",
      "321    Type of violent crime  Violent crime total      253.0      85804.0   \n",
      "...                      ...                  ...        ...          ...   \n",
      "49131  Type of violent crime  Violent crime total       30.0      67492.0   \n",
      "49139  Type of violent crime  Violent crime total       49.0       7639.0   \n",
      "49144  Type of violent crime  Violent crime total      174.0      65133.0   \n",
      "49149  Type of violent crime  Violent crime total      107.0      52524.0   \n",
      "49154  Type of violent crime  Violent crime total       86.0      21214.0   \n",
      "\n",
      "           rate   ll_95ci   ul_95ci        se        rse  ca_decile     ca_rr  \\\n",
      "300    6.563707  5.384386  7.743027  0.601694   9.166985        3.0  1.055683   \n",
      "305    1.752934  1.180309  2.325559  0.292156  16.666667        9.0  0.281936   \n",
      "310    4.179410  3.708034  4.650786  0.240498   5.754353        5.0  0.672201   \n",
      "316    5.351496  4.233372  6.469620  0.570471  10.660036        4.0  0.860715   \n",
      "321    2.948580  2.585244  3.311917  0.185376   6.286946        7.0  0.474239   \n",
      "...         ...       ...       ...       ...        ...        ...       ...   \n",
      "49131  0.444497  0.285436  0.603558  0.081154  18.257419       10.0  0.112274   \n",
      "49139  6.414452  4.618406  8.210499  0.916350  14.285714        2.0  1.620204   \n",
      "49144  2.671457  2.274513  3.068401  0.202523   7.580980        6.0  0.674774   \n",
      "49149  2.037164  1.651161  2.423167  0.196940   9.667365        7.0  0.514560   \n",
      "49154  4.053927  3.197120  4.910733  0.437146  10.783277        3.0  1.023967   \n",
      "\n",
      "       dof_population     version  \n",
      "300           18130.0  10/21/2015  \n",
      "305           20537.0  10/21/2015  \n",
      "310           72259.0  10/21/2015  \n",
      "316           16444.0  10/21/2015  \n",
      "321           85757.0  10/21/2015  \n",
      "...               ...         ...  \n",
      "49131         66808.0  10/21/2015  \n",
      "49139          7853.0  10/21/2015  \n",
      "49144         65401.0  10/21/2015  \n",
      "49149         52486.0  10/21/2015  \n",
      "49154         20995.0  10/21/2015  \n",
      "\n",
      "[6251 rows x 18 columns]\n"
     ]
    },
    {
     "data": {
      "text/html": [
       "<div>\n",
       "<style scoped>\n",
       "    .dataframe tbody tr th:only-of-type {\n",
       "        vertical-align: middle;\n",
       "    }\n",
       "\n",
       "    .dataframe tbody tr th {\n",
       "        vertical-align: top;\n",
       "    }\n",
       "\n",
       "    .dataframe thead th {\n",
       "        text-align: right;\n",
       "    }\n",
       "</style>\n",
       "<table border=\"1\" class=\"dataframe\">\n",
       "  <thead>\n",
       "    <tr style=\"text-align: right;\">\n",
       "      <th></th>\n",
       "      <th>ind_definition</th>\n",
       "      <th>reportyear</th>\n",
       "      <th>geoname</th>\n",
       "      <th>county_name</th>\n",
       "      <th>region_name</th>\n",
       "      <th>strata_name</th>\n",
       "      <th>strata_level_name</th>\n",
       "      <th>numerator</th>\n",
       "      <th>denominator</th>\n",
       "      <th>rate</th>\n",
       "      <th>ll_95ci</th>\n",
       "      <th>ul_95ci</th>\n",
       "      <th>se</th>\n",
       "      <th>rse</th>\n",
       "      <th>ca_decile</th>\n",
       "      <th>ca_rr</th>\n",
       "      <th>dof_population</th>\n",
       "      <th>version</th>\n",
       "    </tr>\n",
       "  </thead>\n",
       "  <tbody>\n",
       "    <tr>\n",
       "      <th>300</th>\n",
       "      <td>Number of Violent Crimes per 1,000 Population</td>\n",
       "      <td>2000.0</td>\n",
       "      <td>Adelanto city</td>\n",
       "      <td>San Bernardino</td>\n",
       "      <td>Southern California</td>\n",
       "      <td>Type of violent crime</td>\n",
       "      <td>Violent crime total</td>\n",
       "      <td>119.0</td>\n",
       "      <td>18130.0</td>\n",
       "      <td>6.563707</td>\n",
       "      <td>5.384386</td>\n",
       "      <td>7.743027</td>\n",
       "      <td>0.601694</td>\n",
       "      <td>9.166985</td>\n",
       "      <td>3.0</td>\n",
       "      <td>1.055683</td>\n",
       "      <td>18130.0</td>\n",
       "      <td>10/21/2015</td>\n",
       "    </tr>\n",
       "    <tr>\n",
       "      <th>305</th>\n",
       "      <td>Number of Violent Crimes per 1,000 Population</td>\n",
       "      <td>2000.0</td>\n",
       "      <td>Agoura Hills city</td>\n",
       "      <td>Los Angeles</td>\n",
       "      <td>Southern California</td>\n",
       "      <td>Type of violent crime</td>\n",
       "      <td>Violent crime total</td>\n",
       "      <td>36.0</td>\n",
       "      <td>20537.0</td>\n",
       "      <td>1.752934</td>\n",
       "      <td>1.180309</td>\n",
       "      <td>2.325559</td>\n",
       "      <td>0.292156</td>\n",
       "      <td>16.666667</td>\n",
       "      <td>9.0</td>\n",
       "      <td>0.281936</td>\n",
       "      <td>20537.0</td>\n",
       "      <td>10/21/2015</td>\n",
       "    </tr>\n",
       "    <tr>\n",
       "      <th>310</th>\n",
       "      <td>Number of Violent Crimes per 1,000 Population</td>\n",
       "      <td>2000.0</td>\n",
       "      <td>Alameda city</td>\n",
       "      <td>Alameda</td>\n",
       "      <td>Bay Area</td>\n",
       "      <td>Type of violent crime</td>\n",
       "      <td>Violent crime total</td>\n",
       "      <td>302.0</td>\n",
       "      <td>72259.0</td>\n",
       "      <td>4.179410</td>\n",
       "      <td>3.708034</td>\n",
       "      <td>4.650786</td>\n",
       "      <td>0.240498</td>\n",
       "      <td>5.754353</td>\n",
       "      <td>5.0</td>\n",
       "      <td>0.672201</td>\n",
       "      <td>72259.0</td>\n",
       "      <td>10/21/2015</td>\n",
       "    </tr>\n",
       "    <tr>\n",
       "      <th>316</th>\n",
       "      <td>Number of Violent Crimes per 1,000 Population</td>\n",
       "      <td>2000.0</td>\n",
       "      <td>Albany city</td>\n",
       "      <td>Alameda</td>\n",
       "      <td>Bay Area</td>\n",
       "      <td>Type of violent crime</td>\n",
       "      <td>Violent crime total</td>\n",
       "      <td>88.0</td>\n",
       "      <td>16444.0</td>\n",
       "      <td>5.351496</td>\n",
       "      <td>4.233372</td>\n",
       "      <td>6.469620</td>\n",
       "      <td>0.570471</td>\n",
       "      <td>10.660036</td>\n",
       "      <td>4.0</td>\n",
       "      <td>0.860715</td>\n",
       "      <td>16444.0</td>\n",
       "      <td>10/21/2015</td>\n",
       "    </tr>\n",
       "    <tr>\n",
       "      <th>321</th>\n",
       "      <td>Number of Violent Crimes per 1,000 Population</td>\n",
       "      <td>2000.0</td>\n",
       "      <td>Alhambra city</td>\n",
       "      <td>Los Angeles</td>\n",
       "      <td>Southern California</td>\n",
       "      <td>Type of violent crime</td>\n",
       "      <td>Violent crime total</td>\n",
       "      <td>253.0</td>\n",
       "      <td>85804.0</td>\n",
       "      <td>2.948580</td>\n",
       "      <td>2.585244</td>\n",
       "      <td>3.311917</td>\n",
       "      <td>0.185376</td>\n",
       "      <td>6.286946</td>\n",
       "      <td>7.0</td>\n",
       "      <td>0.474239</td>\n",
       "      <td>85757.0</td>\n",
       "      <td>10/21/2015</td>\n",
       "    </tr>\n",
       "  </tbody>\n",
       "</table>\n",
       "</div>"
      ],
      "text/plain": [
       "                                    ind_definition  reportyear  \\\n",
       "300  Number of Violent Crimes per 1,000 Population      2000.0   \n",
       "305  Number of Violent Crimes per 1,000 Population      2000.0   \n",
       "310  Number of Violent Crimes per 1,000 Population      2000.0   \n",
       "316  Number of Violent Crimes per 1,000 Population      2000.0   \n",
       "321  Number of Violent Crimes per 1,000 Population      2000.0   \n",
       "\n",
       "               geoname     county_name          region_name  \\\n",
       "300      Adelanto city  San Bernardino  Southern California   \n",
       "305  Agoura Hills city     Los Angeles  Southern California   \n",
       "310       Alameda city         Alameda             Bay Area   \n",
       "316        Albany city         Alameda             Bay Area   \n",
       "321      Alhambra city     Los Angeles  Southern California   \n",
       "\n",
       "               strata_name    strata_level_name  numerator  denominator  \\\n",
       "300  Type of violent crime  Violent crime total      119.0      18130.0   \n",
       "305  Type of violent crime  Violent crime total       36.0      20537.0   \n",
       "310  Type of violent crime  Violent crime total      302.0      72259.0   \n",
       "316  Type of violent crime  Violent crime total       88.0      16444.0   \n",
       "321  Type of violent crime  Violent crime total      253.0      85804.0   \n",
       "\n",
       "         rate   ll_95ci   ul_95ci        se        rse  ca_decile     ca_rr  \\\n",
       "300  6.563707  5.384386  7.743027  0.601694   9.166985        3.0  1.055683   \n",
       "305  1.752934  1.180309  2.325559  0.292156  16.666667        9.0  0.281936   \n",
       "310  4.179410  3.708034  4.650786  0.240498   5.754353        5.0  0.672201   \n",
       "316  5.351496  4.233372  6.469620  0.570471  10.660036        4.0  0.860715   \n",
       "321  2.948580  2.585244  3.311917  0.185376   6.286946        7.0  0.474239   \n",
       "\n",
       "     dof_population     version  \n",
       "300         18130.0  10/21/2015  \n",
       "305         20537.0  10/21/2015  \n",
       "310         72259.0  10/21/2015  \n",
       "316         16444.0  10/21/2015  \n",
       "321         85757.0  10/21/2015  "
      ]
     },
     "execution_count": 5,
     "metadata": {},
     "output_type": "execute_result"
    }
   ],
   "source": [
    "print(data)\n",
    "data.head()"
   ]
  }
 ],
 "metadata": {
  "kaggle": {
   "accelerator": "none",
   "dataSources": [
    {
     "datasetId": 8519395,
     "sourceId": 13422826,
     "sourceType": "datasetVersion"
    }
   ],
   "dockerImageVersionId": 31153,
   "isGpuEnabled": false,
   "isInternetEnabled": false,
   "language": "python",
   "sourceType": "notebook"
  },
  "kernelspec": {
   "display_name": "Python 3",
   "language": "python",
   "name": "python3"
  },
  "language_info": {
   "codemirror_mode": {
    "name": "ipython",
    "version": 3
   },
   "file_extension": ".py",
   "mimetype": "text/x-python",
   "name": "python",
   "nbconvert_exporter": "python",
   "pygments_lexer": "ipython3",
   "version": "3.11.13"
  },
  "papermill": {
   "default_parameters": {},
   "duration": 10.920418,
   "end_time": "2025-10-18T12:36:42.767547",
   "environment_variables": {},
   "exception": null,
   "input_path": "__notebook__.ipynb",
   "output_path": "__notebook__.ipynb",
   "parameters": {},
   "start_time": "2025-10-18T12:36:31.847129",
   "version": "2.6.0"
  }
 },
 "nbformat": 4,
 "nbformat_minor": 5
}
